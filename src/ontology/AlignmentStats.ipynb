{
 "cells": [
  {
   "cell_type": "markdown",
   "id": "91556435-3919-452b-9c8b-4d2087d68efc",
   "metadata": {},
   "source": [
    "## Alignment Stats\n"
   ]
  },
  {
   "cell_type": "markdown",
   "id": "ee8846ae-865b-4a06-9e33-96bf115e2c05",
   "metadata": {},
   "source": [
    "### Description\n",
    "\n",
    "This notebook is to review counts for the Mapping Progress Report in the mondo-ingest repo.\n",
    "\n",
    "These calculations are based on the slides [here](https://docs.google.com/presentation/d/14Xmcfwe9xhoGG0ZnDbFbwzKqHWHQR4OaOF4W7II2BaM/edit?slide=id.p#slide=id.p).\n",
    "\n",
    "- DISEASE is gnerally calculated as mirror signature - (all excluded terms and all ingest source obsolete terms)\n",
    "  - The mirror signature file is from reports/mirror_signature-<ONTOLOGY_NAME>.tsv\n",
    "  - The set of all excluded terms is from reports/<ONTOLOGY_NAME>_term_exclusions.txt\n",
    "  - The set of all ingest source obsolete terms was created by querying the OAK ontology database for obsolete terms.\n",
    "  - IRIs were converted to CURIEs as needed.\n",
    "  - The final count only includes CURIEs that are from the source ingest base namespace.  \n",
    "\n",
    "\n",
    "- MAPPED is calculated as starting with the `mondo.sssom.tsv` file and filtering to only skos:exactMatch rows and then removing both any rows that also have an obsolete Mondo term or an obsolete source ingest term.\n",
    "QUESTION: Should the source ingest terms that exist in the `mondo.sssom.tsv` file BUT are also in the term exclusion file for the source also be removed?\n",
    "\n",
    "\n",
    "NOTE: The files of obsolete terms were created using the pattern: `runoak -i components/icd10cm.db obsoletes > icd10cm_obsoletes.txt`\n",
    "Files were used from the recent data build so all files were created late April 2025."
   ]
  },
  {
   "cell_type": "code",
   "execution_count": 136,
   "id": "45678a98",
   "metadata": {},
   "outputs": [],
   "source": [
    "#!./run.sh make reports/mondo_obsoletes_exactmatch.tsv tmp/mondo.sssom.tsv\n"
   ]
  },
  {
   "cell_type": "code",
   "execution_count": 137,
   "id": "5a4b3f5c-e745-4cd4-bf5c-dfa355978f76",
   "metadata": {},
   "outputs": [],
   "source": [
    "# Imports\n",
    "import pandas as pd\n",
    "\n",
    "pd.set_option('display.width', 1000)\n"
   ]
  },
  {
   "cell_type": "code",
   "execution_count": 138,
   "id": "e594ef0e",
   "metadata": {},
   "outputs": [],
   "source": [
    "\n",
    "# Function to extract CURIE from IRI\n",
    "def extract_curie(iri):\n",
    "    clean_iri = iri.replace('>', '').replace('<', '')\n",
    "    curie_mapping = {\n",
    "        'https://omim.org/entry/': 'OMIM:',\n",
    "        'http://omim.org/entry/': 'OMIM:',\n",
    "        'https://omim.org/phenotypicSeries/PS': 'OMIMPS:',\n",
    "        'http://omim.org/phenotypicSeries/PS': 'OMIMPS:',\n",
    "        'http://purl.obolibrary.org/obo/OMIMPS_': 'OMIMPS:',\n",
    "        'http://purl.obolibrary.org/obo/MONDO_': 'MONDO:',\n",
    "        'http://www.orpha.net/ORDO/Orphanet_': 'Orphanet:',\n",
    "        'http://purl.obolibrary.org/obo/DOID_': 'DOID:',\n",
    "        'http://purl.obolibrary.org/obo/NCIT_': 'NCIT:',\n",
    "        'http://id.who.int/icd/entity/': 'icd11.foundation:',\n",
    "        'http://purl.bioontology.org/ontology/ICD10CM/': 'ICD10CM:',\n",
    "        'http://purl.obolibrary.org/obo/mondo/sources/icd11foundation/': 'icd11.foundation:',\n",
    "    }\n",
    "    for uri_prefix, curie_prefix in curie_mapping.items():\n",
    "        if clean_iri.startswith(uri_prefix):\n",
    "            curie = clean_iri.replace(uri_prefix, curie_prefix)\n",
    "            return curie\n",
    "    return clean_iri\n",
    "\n",
    "def compute_stats(source, mondo_sssom_df,df_mondo_obsoletes_exactmatch):\n",
    "    \n",
    "    # THIS FILES HAVE TO EXIST AND BE UP TO DATE\n",
    "    f_mirror_signature = f'reports/mirror_signature-{source}.tsv'\n",
    "    f_initial_inclusions = f'tmp/{source}_relevant_signature.txt'\n",
    "    f_exclusions = f'reports/{source}_term_exclusions.txt'\n",
    "    f_deprecated = f'reports/mirror_deprecated-{source}.tsv'\n",
    "    \n",
    "    # Load the mirror signature file\n",
    "    df_signature = pd.read_csv(f_mirror_signature, header=None, names=['iri'])\n",
    "    df_signature['curie'] = df_signature['iri'].apply(extract_curie)\n",
    "    df_signature_clean = df_signature.dropna(subset=['curie']) # Keep only rows where a CURIE was extracted\n",
    "    signature_all = set(df_signature_clean['curie'].dropna())\n",
    "    #print(f\"signature_all: {list(signature_all)[0:5]}\")\n",
    "\n",
    "    # Load initial inclusion file\n",
    "    # Move this to \"reports\" folder\n",
    "    df_initial_inclusions = pd.read_csv(f_initial_inclusions, header=None, names=['curie_include'])\n",
    "    df_initial_inclusions['curie_include'] = df_initial_inclusions['curie_include'].apply(extract_curie)\n",
    "    signature_initial_inclusions = set(df_initial_inclusions['curie_include'].dropna())\n",
    "    #print(f\"signature_initial_inclusions: {list(signature_initial_inclusions)[0:5]}\")\n",
    "\n",
    "    # Load the term exclusions file\n",
    "    df_manual_exclusions = pd.read_csv(f_exclusions, header=None, names=['curie_exclude'])\n",
    "    signature_manual_exclusions = set(df_manual_exclusions['curie_exclude'].dropna())\n",
    "    #print(f\"signature_manual_exclusions: {list(signature_manual_exclusions)[0:5]}\")\n",
    "\n",
    "    # Load the obsolete terms from Mondo\n",
    "    df_mondo_obsoletes = df_mondo_obsoletes_exactmatch[df_mondo_obsoletes_exactmatch['exact_match'].str.startswith('OMIM')].copy()\n",
    "    signature_mondo_obsoletes = set(df_mondo_obsoletes['exact_match'].dropna().unique())\n",
    "    #print(f\"signature_obsoletes: {list(signature_mondo_obsoletes)[0:5]}\")\n",
    "\n",
    "    # Load the obsolete terms file for source\n",
    "    df_source_obsoletes = pd.read_csv(f_deprecated, header=None, names=['curie'])\n",
    "    df_source_obsoletes['curie'] = df_source_obsoletes['curie'].apply(extract_curie)\n",
    "    signature_source_obsoletes = set(df_source_obsoletes['curie'].dropna().unique())\n",
    "    #print(f\"source_obsoletes: {list(signature_source_obsoletes)[0:5]}\")\n",
    "\n",
    "    # Compute the various sets\n",
    "    non_inclusion_set = set(signature_all - signature_initial_inclusions)\n",
    "    exclusion_set = non_inclusion_set | signature_manual_exclusions | signature_source_obsoletes | signature_mondo_obsoletes\n",
    "    inclusion_set = signature_initial_inclusions - exclusion_set\n",
    "\n",
    "    df_mapped = mondo_sssom_df[mondo_sssom_df['object_id'].isin(inclusion_set)].copy()\n",
    "    mapped_set = set(df_mapped['object_id'].dropna().unique())\n",
    "    non_mapped = inclusion_set - mapped_set\n",
    "    print(f\"First five IDs that have not been mapped yet: {list(non_mapped)[0:5]}\")\n",
    "\n",
    "    all_count = len(signature_all)\n",
    "    excluded_count = len(exclusion_set)\n",
    "    included_count = len(inclusion_set)\n",
    "    initial_inclusion_count = len(signature_initial_inclusions)\n",
    "    initial_inclusion_percent = (initial_inclusion_count / all_count) * 100 if all_count > 0 else 0\n",
    "    included_percent = (included_count / initial_inclusion_count) * 100 if initial_inclusion_count > 0 else 0\n",
    "    mapped_count  = len(mapped_set)\n",
    "    mapped_percent = (mapped_count / included_count) * 100 if included_count > 0 else 0\n",
    "    print(f\"\\nFinal Count of {source}:\")\n",
    "    print(f\"  Mirror Signature [ALL]: {all_count}\")\n",
    "    print(f\"  Initial Inclusions [IN-SCOPE]: {initial_inclusion_count} ({initial_inclusion_percent:.2f}%)\")\n",
    "    print(f\"  Excluded Terms [EXCLUDED]: {excluded_count}\")\n",
    "    print(f\"  Included Terms [DISEASE]: {included_count} ({included_percent:.2f}%)\")\n",
    "    print(f\"  Mapped Terms [MAPPED]: {mapped_count} ({mapped_percent:.2f}%)\")\n"
   ]
  },
  {
   "cell_type": "code",
   "execution_count": 139,
   "id": "09bcd599",
   "metadata": {},
   "outputs": [
    {
     "data": {
      "application/vnd.microsoft.datawrangler.viewer.v0+json": {
       "columns": [
        {
         "name": "index",
         "rawType": "int64",
         "type": "integer"
        },
        {
         "name": "class",
         "rawType": "object",
         "type": "string"
        },
        {
         "name": "exact_match",
         "rawType": "object",
         "type": "string"
        }
       ],
       "conversionMethod": "pd.DataFrame",
       "ref": "d85885b0-5a2b-41cc-b1cc-e9e787ad4e46",
       "rows": [
        [
         "0",
         "MONDO:0013733",
         "OMIM:614401"
        ],
        [
         "1",
         "MONDO:0019748",
         "Orphanet:93618"
        ],
        [
         "2",
         "MONDO:0007139",
         "OMIM:107290"
        ],
        [
         "3",
         "MONDO:0044256",
         "OMIM:227240"
        ],
        [
         "4",
         "MONDO:0019711",
         "icd11.foundation:395969787"
        ]
       ],
       "shape": {
        "columns": 2,
        "rows": 5
       }
      },
      "text/html": [
       "<div>\n",
       "<style scoped>\n",
       "    .dataframe tbody tr th:only-of-type {\n",
       "        vertical-align: middle;\n",
       "    }\n",
       "\n",
       "    .dataframe tbody tr th {\n",
       "        vertical-align: top;\n",
       "    }\n",
       "\n",
       "    .dataframe thead th {\n",
       "        text-align: right;\n",
       "    }\n",
       "</style>\n",
       "<table border=\"1\" class=\"dataframe\">\n",
       "  <thead>\n",
       "    <tr style=\"text-align: right;\">\n",
       "      <th></th>\n",
       "      <th>class</th>\n",
       "      <th>exact_match</th>\n",
       "    </tr>\n",
       "  </thead>\n",
       "  <tbody>\n",
       "    <tr>\n",
       "      <th>0</th>\n",
       "      <td>MONDO:0013733</td>\n",
       "      <td>OMIM:614401</td>\n",
       "    </tr>\n",
       "    <tr>\n",
       "      <th>1</th>\n",
       "      <td>MONDO:0019748</td>\n",
       "      <td>Orphanet:93618</td>\n",
       "    </tr>\n",
       "    <tr>\n",
       "      <th>2</th>\n",
       "      <td>MONDO:0007139</td>\n",
       "      <td>OMIM:107290</td>\n",
       "    </tr>\n",
       "    <tr>\n",
       "      <th>3</th>\n",
       "      <td>MONDO:0044256</td>\n",
       "      <td>OMIM:227240</td>\n",
       "    </tr>\n",
       "    <tr>\n",
       "      <th>4</th>\n",
       "      <td>MONDO:0019711</td>\n",
       "      <td>icd11.foundation:395969787</td>\n",
       "    </tr>\n",
       "  </tbody>\n",
       "</table>\n",
       "</div>"
      ],
      "text/plain": [
       "           class                 exact_match\n",
       "0  MONDO:0013733                 OMIM:614401\n",
       "1  MONDO:0019748              Orphanet:93618\n",
       "2  MONDO:0007139                 OMIM:107290\n",
       "3  MONDO:0044256                 OMIM:227240\n",
       "4  MONDO:0019711  icd11.foundation:395969787"
      ]
     },
     "execution_count": 139,
     "metadata": {},
     "output_type": "execute_result"
    }
   ],
   "source": [
    "## Load depreated Mondo classes and any exact matches they might have\n",
    "\n",
    "f_deprecated_exactmatch = 'reports/mondo_obsoletes_exactmatch.csv'\n",
    "df_mondo_obsoletes_exactmatch = pd.read_csv(f_deprecated_exactmatch)\n",
    "df_mondo_obsoletes_exactmatch['class'] = df_mondo_obsoletes_exactmatch['class'].apply(extract_curie)\n",
    "df_mondo_obsoletes_exactmatch['exact_match'] = df_mondo_obsoletes_exactmatch['exact_match'].apply(extract_curie)\n",
    "df_mondo_obsoletes_exactmatch.head()\n"
   ]
  },
  {
   "cell_type": "code",
   "execution_count": 140,
   "id": "c7d3b4bd",
   "metadata": {},
   "outputs": [
    {
     "data": {
      "application/vnd.microsoft.datawrangler.viewer.v0+json": {
       "columns": [
        {
         "name": "index",
         "rawType": "int64",
         "type": "integer"
        },
        {
         "name": "subject_id",
         "rawType": "object",
         "type": "string"
        },
        {
         "name": "subject_label",
         "rawType": "object",
         "type": "string"
        },
        {
         "name": "predicate_id",
         "rawType": "object",
         "type": "string"
        },
        {
         "name": "object_id",
         "rawType": "object",
         "type": "string"
        },
        {
         "name": "object_label",
         "rawType": "object",
         "type": "unknown"
        },
        {
         "name": "mapping_justification",
         "rawType": "object",
         "type": "string"
        }
       ],
       "conversionMethod": "pd.DataFrame",
       "ref": "b1482eee-f445-41b1-9e80-c36154ce27c5",
       "rows": [
        [
         "0",
         "MONDO:0000001",
         "disease",
         "skos:exactMatch",
         "DOID:4",
         "disease",
         "semapv:UnspecifiedMatching"
        ],
        [
         "1",
         "MONDO:0000001",
         "disease",
         "skos:exactMatch",
         "MEDGEN:4347",
         null,
         "semapv:UnspecifiedMatching"
        ],
        [
         "2",
         "MONDO:0000001",
         "disease",
         "skos:exactMatch",
         "NCIT:C2991",
         "Disease or Disorder",
         "semapv:UnspecifiedMatching"
        ],
        [
         "3",
         "MONDO:0000001",
         "disease",
         "skos:exactMatch",
         "Orphanet:377788",
         "Disease",
         "semapv:UnspecifiedMatching"
        ],
        [
         "4",
         "MONDO:0000001",
         "disease",
         "skos:exactMatch",
         "SCTID:64572001",
         null,
         "semapv:UnspecifiedMatching"
        ]
       ],
       "shape": {
        "columns": 6,
        "rows": 5
       }
      },
      "text/html": [
       "<div>\n",
       "<style scoped>\n",
       "    .dataframe tbody tr th:only-of-type {\n",
       "        vertical-align: middle;\n",
       "    }\n",
       "\n",
       "    .dataframe tbody tr th {\n",
       "        vertical-align: top;\n",
       "    }\n",
       "\n",
       "    .dataframe thead th {\n",
       "        text-align: right;\n",
       "    }\n",
       "</style>\n",
       "<table border=\"1\" class=\"dataframe\">\n",
       "  <thead>\n",
       "    <tr style=\"text-align: right;\">\n",
       "      <th></th>\n",
       "      <th>subject_id</th>\n",
       "      <th>subject_label</th>\n",
       "      <th>predicate_id</th>\n",
       "      <th>object_id</th>\n",
       "      <th>object_label</th>\n",
       "      <th>mapping_justification</th>\n",
       "    </tr>\n",
       "  </thead>\n",
       "  <tbody>\n",
       "    <tr>\n",
       "      <th>0</th>\n",
       "      <td>MONDO:0000001</td>\n",
       "      <td>disease</td>\n",
       "      <td>skos:exactMatch</td>\n",
       "      <td>DOID:4</td>\n",
       "      <td>disease</td>\n",
       "      <td>semapv:UnspecifiedMatching</td>\n",
       "    </tr>\n",
       "    <tr>\n",
       "      <th>1</th>\n",
       "      <td>MONDO:0000001</td>\n",
       "      <td>disease</td>\n",
       "      <td>skos:exactMatch</td>\n",
       "      <td>MEDGEN:4347</td>\n",
       "      <td>NaN</td>\n",
       "      <td>semapv:UnspecifiedMatching</td>\n",
       "    </tr>\n",
       "    <tr>\n",
       "      <th>2</th>\n",
       "      <td>MONDO:0000001</td>\n",
       "      <td>disease</td>\n",
       "      <td>skos:exactMatch</td>\n",
       "      <td>NCIT:C2991</td>\n",
       "      <td>Disease or Disorder</td>\n",
       "      <td>semapv:UnspecifiedMatching</td>\n",
       "    </tr>\n",
       "    <tr>\n",
       "      <th>3</th>\n",
       "      <td>MONDO:0000001</td>\n",
       "      <td>disease</td>\n",
       "      <td>skos:exactMatch</td>\n",
       "      <td>Orphanet:377788</td>\n",
       "      <td>Disease</td>\n",
       "      <td>semapv:UnspecifiedMatching</td>\n",
       "    </tr>\n",
       "    <tr>\n",
       "      <th>4</th>\n",
       "      <td>MONDO:0000001</td>\n",
       "      <td>disease</td>\n",
       "      <td>skos:exactMatch</td>\n",
       "      <td>SCTID:64572001</td>\n",
       "      <td>NaN</td>\n",
       "      <td>semapv:UnspecifiedMatching</td>\n",
       "    </tr>\n",
       "  </tbody>\n",
       "</table>\n",
       "</div>"
      ],
      "text/plain": [
       "      subject_id subject_label     predicate_id        object_id         object_label       mapping_justification\n",
       "0  MONDO:0000001       disease  skos:exactMatch           DOID:4              disease  semapv:UnspecifiedMatching\n",
       "1  MONDO:0000001       disease  skos:exactMatch      MEDGEN:4347                  NaN  semapv:UnspecifiedMatching\n",
       "2  MONDO:0000001       disease  skos:exactMatch       NCIT:C2991  Disease or Disorder  semapv:UnspecifiedMatching\n",
       "3  MONDO:0000001       disease  skos:exactMatch  Orphanet:377788              Disease  semapv:UnspecifiedMatching\n",
       "4  MONDO:0000001       disease  skos:exactMatch   SCTID:64572001                  NaN  semapv:UnspecifiedMatching"
      ]
     },
     "execution_count": 140,
     "metadata": {},
     "output_type": "execute_result"
    }
   ],
   "source": [
    "## Load Mondo SSSOM file\n",
    "\n",
    "mondo_sssom_df = pd.read_csv('tmp/mondo.sssom.tsv', sep='\\t', comment='#')\n",
    "mondo_sssom_df.head()"
   ]
  },
  {
   "cell_type": "code",
   "execution_count": 141,
   "id": "e26f0793-c644-4aae-af92-f0df46fef519",
   "metadata": {},
   "outputs": [
    {
     "name": "stdout",
     "output_type": "stream",
     "text": [
      "First five IDs that have not been mapped yet: ['OMIM:620975', 'OMIM:271250', 'term']\n",
      "\n",
      "Final Count of omim:\n",
      "  Mirror Signature [ALL]: 36277\n",
      "  Initial Inclusions [IN-SCOPE]: 12143 (33.47%)\n",
      "  Excluded Terms [EXCLUDED]: 27583\n",
      "  Included Terms [DISEASE]: 8703 (71.67%)\n",
      "  Mapped Terms [MAPPED]: 8700 (99.97%)\n"
     ]
    }
   ],
   "source": [
    "# OMIM Alignment\n",
    "source = 'omim'\n",
    "compute_stats(source, mondo_sssom_df, df_mondo_obsoletes_exactmatch)"
   ]
  },
  {
   "cell_type": "code",
   "execution_count": 142,
   "id": "759c4892",
   "metadata": {},
   "outputs": [
    {
     "name": "stdout",
     "output_type": "stream",
     "text": [
      "First five IDs that have not been mapped yet: ['Orphanet:689021', 'Orphanet:662392', 'Orphanet:684216', 'Orphanet:689397', 'Orphanet:659707']\n",
      "\n",
      "Final Count of ordo:\n",
      "  Mirror Signature [ALL]: 15580\n",
      "  Initial Inclusions [IN-SCOPE]: 11097 (71.23%)\n",
      "  Excluded Terms [EXCLUDED]: 6614\n",
      "  Included Terms [DISEASE]: 9269 (83.53%)\n",
      "  Mapped Terms [MAPPED]: 9195 (99.20%)\n"
     ]
    }
   ],
   "source": [
    "# Orphanet Alignment\n",
    "\n",
    "source = 'ordo'\n",
    "compute_stats(source, mondo_sssom_df, df_mondo_obsoletes_exactmatch)"
   ]
  },
  {
   "cell_type": "code",
   "execution_count": 143,
   "id": "e92266bd",
   "metadata": {},
   "outputs": [
    {
     "name": "stdout",
     "output_type": "stream",
     "text": [
      "First five IDs that have not been mapped yet: ['DOID:0070610', 'DOID:0051001', 'DOID:0070623', 'DOID:0051033', 'DOID:0051027']\n",
      "\n",
      "Final Count of doid:\n",
      "  Mirror Signature [ALL]: 19115\n",
      "  Initial Inclusions [IN-SCOPE]: 11766 (61.55%)\n",
      "  Excluded Terms [EXCLUDED]: 7816\n",
      "  Included Terms [DISEASE]: 11578 (98.40%)\n",
      "  Mapped Terms [MAPPED]: 11442 (98.83%)\n"
     ]
    }
   ],
   "source": [
    "# DOID Alignment\n",
    "source = 'doid'\n",
    "compute_stats(source, mondo_sssom_df, df_mondo_obsoletes_exactmatch)"
   ]
  },
  {
   "cell_type": "code",
   "execution_count": 144,
   "id": "91ecd8cb",
   "metadata": {},
   "outputs": [
    {
     "name": "stdout",
     "output_type": "stream",
     "text": [
      "First five IDs that have not been mapped yet: ['NCIT:C173137', 'NCIT:C92180', 'NCIT:C188956', 'NCIT:C136770', 'NCIT:C96489']\n",
      "\n",
      "Final Count of ncit:\n",
      "  Mirror Signature [ALL]: 185903\n",
      "  Initial Inclusions [IN-SCOPE]: 15751 (8.47%)\n",
      "  Excluded Terms [EXCLUDED]: 175699\n",
      "  Included Terms [DISEASE]: 15746 (99.97%)\n",
      "  Mapped Terms [MAPPED]: 3688 (23.42%)\n"
     ]
    }
   ],
   "source": [
    "# NCIT Alignment\n",
    "source = 'ncit'\n",
    "compute_stats(source, mondo_sssom_df, df_mondo_obsoletes_exactmatch)"
   ]
  },
  {
   "cell_type": "code",
   "execution_count": 145,
   "id": "a5384e27",
   "metadata": {},
   "outputs": [
    {
     "name": "stdout",
     "output_type": "stream",
     "text": [
      "First five IDs that have not been mapped yet: ['icd11.foundation:1233116564', 'icd11.foundation:1357248582', 'icd11.foundation:960436403', 'icd11.foundation:1462112221', 'icd11.foundation:2028524981']\n",
      "\n",
      "Final Count of icd11foundation:\n",
      "  Mirror Signature [ALL]: 101136\n",
      "  Initial Inclusions [IN-SCOPE]: 57873 (57.22%)\n",
      "  Excluded Terms [EXCLUDED]: 49318\n",
      "  Included Terms [DISEASE]: 52098 (90.02%)\n",
      "  Mapped Terms [MAPPED]: 4104 (7.88%)\n"
     ]
    }
   ],
   "source": [
    "# ICD 11 Alignment\n",
    "source = 'icd11foundation'\n",
    "compute_stats(source, mondo_sssom_df, df_mondo_obsoletes_exactmatch)"
   ]
  },
  {
   "cell_type": "code",
   "execution_count": 146,
   "id": "ba4d4b14",
   "metadata": {},
   "outputs": [
    {
     "name": "stdout",
     "output_type": "stream",
     "text": [
      "First five IDs that have not been mapped yet: ['ICD10CM:S50.851', 'ICD10CM:S12.190K', 'ICD10CM:S50.322', 'ICD10CM:S59.299', 'ICD10CM:H15.049']\n",
      "\n",
      "Final Count of icd10cm:\n",
      "  Mirror Signature [ALL]: 95975\n",
      "  Initial Inclusions [IN-SCOPE]: 95848 (99.87%)\n",
      "  Excluded Terms [EXCLUDED]: 15857\n",
      "  Included Terms [DISEASE]: 80396 (83.88%)\n",
      "  Mapped Terms [MAPPED]: 1166 (1.45%)\n"
     ]
    }
   ],
   "source": [
    "# ICD 10 Alignment\n",
    "source = 'icd10cm'\n",
    "compute_stats(source, mondo_sssom_df, df_mondo_obsoletes_exactmatch)"
   ]
  }
 ],
 "metadata": {
  "kernelspec": {
   "display_name": "Python 3",
   "language": "python",
   "name": "python3"
  },
  "language_info": {
   "codemirror_mode": {
    "name": "ipython",
    "version": 3
   },
   "file_extension": ".py",
   "mimetype": "text/x-python",
   "name": "python",
   "nbconvert_exporter": "python",
   "pygments_lexer": "ipython3",
   "version": "3.11.7"
  }
 },
 "nbformat": 4,
 "nbformat_minor": 5
}

{
 "cells": [
  {
   "cell_type": "markdown",
   "id": "91556435-3919-452b-9c8b-4d2087d68efc",
   "metadata": {},
   "source": [
    "## Alignment Stats\n"
   ]
  },
  {
   "cell_type": "markdown",
   "id": "ee8846ae-865b-4a06-9e33-96bf115e2c05",
   "metadata": {},
   "source": [
    "### Description\n",
    "\n",
    "This notebook is to review counts for the Mapping Progress Report in the mondo-ingest repo.\n",
    "\n",
    "These calculations are based on the slides [here](https://docs.google.com/presentation/d/14Xmcfwe9xhoGG0ZnDbFbwzKqHWHQR4OaOF4W7II2BaM/edit?slide=id.p#slide=id.p).\n",
    "\n",
    "- DISEASE is gnerally calculated as mirror signature - (all excluded terms and all ingest source obsolete terms)\n",
    "  - The mirror signature file is from reports/mirror_signature-<ONTOLOGY_NAME>.tsv\n",
    "  - The set of all excluded terms is from reports/<ONTOLOGY_NAME>_term_exclusions.txt\n",
    "  - The set of all ingest source obsolete terms was created by querying the OAK ontology database for obsolete terms.\n",
    "  - IRIs were converted to CURIEs as needed.\n",
    "  - The final count only includes CURIEs that are from the source ingest base namespace.  \n",
    "\n",
    "\n",
    "- MAPPED is calculated as starting with the `mondo.sssom.tsv` file and filtering to only skos:exactMatch rows and then removing both any rows that also have an obsolete Mondo term or an obsolete source ingest term.\n",
    "QUESTION: Should the source ingest terms that exist in the `mondo.sssom.tsv` file BUT are also in the term exclusion file for the source also be removed?\n",
    "\n",
    "\n",
    "NOTE: The files of obsolete terms were created using the pattern: `runoak -i components/icd10cm.db obsoletes > icd10cm_obsoletes.txt`\n",
    "Files were used from the recent data build so all files were created late April 2025."
   ]
  },
  {
   "cell_type": "code",
   "execution_count": 1,
   "id": "5a4b3f5c-e745-4cd4-bf5c-dfa355978f76",
   "metadata": {},
   "outputs": [],
   "source": [
    "# Imports\n",
    "import pandas as pd\n",
    "\n",
    "pd.set_option('display.width', 1000)"
   ]
  },
  {
   "cell_type": "markdown",
   "id": "d145b037-2485-461e-aa74-b507dcc8e3e0",
   "metadata": {},
   "source": [
    "## Get obsolete Mondo terms"
   ]
  },
  {
   "cell_type": "code",
   "execution_count": 2,
   "id": "d936b869-055d-40da-9602-fe6ce64ce6d6",
   "metadata": {},
   "outputs": [],
   "source": [
    "# Query for obsolete Mondo terms and any xrefs for the term that exist\n",
    "\n",
    "!robot query -i tmp/mondo.owl -q ../sparql/mondo_obsoletes_and_xrefs.sparql tmp/mondo_obsoletes_and_xrefs.tsv"
   ]
  },
  {
   "cell_type": "code",
   "execution_count": 3,
   "id": "b48f7efd-49e1-4756-b5b9-a856162a76b4",
   "metadata": {},
   "outputs": [
    {
     "data": {
      "text/html": [
       "<div>\n",
       "<style scoped>\n",
       "    .dataframe tbody tr th:only-of-type {\n",
       "        vertical-align: middle;\n",
       "    }\n",
       "\n",
       "    .dataframe tbody tr th {\n",
       "        vertical-align: top;\n",
       "    }\n",
       "\n",
       "    .dataframe thead th {\n",
       "        text-align: right;\n",
       "    }\n",
       "</style>\n",
       "<table border=\"1\" class=\"dataframe\">\n",
       "  <thead>\n",
       "    <tr style=\"text-align: right;\">\n",
       "      <th></th>\n",
       "      <th>?mondo_curie</th>\n",
       "      <th>?xref</th>\n",
       "      <th>?xref_source</th>\n",
       "      <th>?mondoSources</th>\n",
       "    </tr>\n",
       "  </thead>\n",
       "  <tbody>\n",
       "    <tr>\n",
       "      <th>0</th>\n",
       "      <td>MONDO:0000002</td>\n",
       "      <td>NaN</td>\n",
       "      <td>NaN</td>\n",
       "      <td>NaN</td>\n",
       "    </tr>\n",
       "    <tr>\n",
       "      <th>1</th>\n",
       "      <td>MONDO:0000003</td>\n",
       "      <td>NaN</td>\n",
       "      <td>NaN</td>\n",
       "      <td>NaN</td>\n",
       "    </tr>\n",
       "    <tr>\n",
       "      <th>2</th>\n",
       "      <td>MONDO:0000006</td>\n",
       "      <td>NaN</td>\n",
       "      <td>NaN</td>\n",
       "      <td>NaN</td>\n",
       "    </tr>\n",
       "    <tr>\n",
       "      <th>3</th>\n",
       "      <td>MONDO:0000007</td>\n",
       "      <td>NaN</td>\n",
       "      <td>NaN</td>\n",
       "      <td>NaN</td>\n",
       "    </tr>\n",
       "    <tr>\n",
       "      <th>4</th>\n",
       "      <td>MONDO:0000008</td>\n",
       "      <td>NaN</td>\n",
       "      <td>NaN</td>\n",
       "      <td>NaN</td>\n",
       "    </tr>\n",
       "  </tbody>\n",
       "</table>\n",
       "</div>"
      ],
      "text/plain": [
       "    ?mondo_curie ?xref ?xref_source ?mondoSources\n",
       "0  MONDO:0000002   NaN          NaN           NaN\n",
       "1  MONDO:0000003   NaN          NaN           NaN\n",
       "2  MONDO:0000006   NaN          NaN           NaN\n",
       "3  MONDO:0000007   NaN          NaN           NaN\n",
       "4  MONDO:0000008   NaN          NaN           NaN"
      ]
     },
     "execution_count": 3,
     "metadata": {},
     "output_type": "execute_result"
    }
   ],
   "source": [
    "obs_mondo_df = pd.read_csv('tmp/mondo_obsoletes_and_xrefs.tsv', sep='\\t')\n",
    "\n",
    "obs_mondo_df.head()"
   ]
  },
  {
   "cell_type": "markdown",
   "id": "aa347bfd-7315-4553-a760-a987d3ed75a1",
   "metadata": {},
   "source": [
    "## Get Mondo Mapping file "
   ]
  },
  {
   "cell_type": "code",
   "execution_count": 4,
   "id": "1060db27-4372-4e53-a425-31b6ae953b52",
   "metadata": {},
   "outputs": [
    {
     "name": "stdout",
     "output_type": "stream",
     "text": [
      "106545\n"
     ]
    }
   ],
   "source": [
    "# Read in mondo.sssom.tsv \n",
    "\n",
    "mondo_sssom_df = pd.read_csv('tmp/mondo.sssom.tsv', sep='\\t', skiprows=51)\n",
    "\n",
    "print(len(mondo_sssom_df))"
   ]
  },
  {
   "cell_type": "code",
   "execution_count": 5,
   "id": "30d4055f-758f-4bd4-9bb1-cdfad3234f78",
   "metadata": {},
   "outputs": [
    {
     "name": "stdout",
     "output_type": "stream",
     "text": [
      "106468\n"
     ]
    }
   ],
   "source": [
    "# Filter mondo_sssom_df to only rows where the predicate_id os skos:exactMatch\n",
    "\n",
    "mondo_sssom_skosExactMatch_df = mondo_sssom_df[mondo_sssom_df['predicate_id'] == 'skos:exactMatch']\n",
    "\n",
    "mondo_sssom_skosExactMatch_df.head()\n",
    "print(len(mondo_sssom_skosExactMatch_df))"
   ]
  },
  {
   "cell_type": "markdown",
   "id": "30c01a15-50f1-4152-9abc-ad39d8a935b3",
   "metadata": {},
   "source": [
    "## Generalize for all sources"
   ]
  },
  {
   "cell_type": "code",
   "execution_count": 6,
   "id": "e1ba30f9-a017-423a-aa40-ff1413705272",
   "metadata": {},
   "outputs": [],
   "source": [
    "# Generalize for all Sources\n",
    "\n",
    "# Function to extract CURIE from IRI\n",
    "def extract_curie(iri):\n",
    "    curie_mapping = {\n",
    "        'https://omim.org/entry/': 'OMIM:',\n",
    "        'http://omim.org/entry/': 'OMIM:',\n",
    "        'https://omim.org/phenotypicSeries/PS': 'OMIMPS:',\n",
    "        'http://omim.org/phenotypicSeries/PS': 'OMIMPS:',\n",
    "        'http://purl.obolibrary.org/obo/OMIMPS_': 'OMIMPS:',\n",
    "        'http://purl.obolibrary.org/obo/MONDO_': 'MONDO:',\n",
    "        'http://www.orpha.net/ORDO/Orphanet_': 'Orphanet:',\n",
    "        'http://purl.obolibrary.org/obo/DOID_': 'DOID:',\n",
    "        'http://purl.obolibrary.org/obo/NCIT_': 'NCIT:',\n",
    "        'http://id.who.int/icd/entity/': 'icd11.foundation:',\n",
    "        'http://purl.bioontology.org/ontology/ICD10CM/': 'ICD10CM:',\n",
    "        'http://purl.obolibrary.org/obo/mondo/sources/icd11foundation/': 'icd11.foundation:',\n",
    "    }\n",
    "\n",
    "    if pd.notna(iri):\n",
    "        for prefix, curie_prefix in curie_mapping.items():\n",
    "            if iri.startswith(prefix):\n",
    "                return iri.replace(prefix, curie_prefix)\n",
    "    return pd.NA\n",
    "\n",
    "\n",
    "def compute_stats(source, mondo_sssom_df):\n",
    "\n",
    "    # NOTE: All files must be from latest build for accurate numbers\n",
    "    f_mirror_signature = f'reports/mirror_signature-{source}.tsv'\n",
    "    f_initial_inclusions = f'tmp/{source}_relevant_signature.txt'\n",
    "    f_exclusions = f'reports/{source}_term_exclusions.txt'\n",
    "    f_deprecated = f'reports/mirror_deprecated-{source}.tsv'\n",
    "\n",
    "    # Load the mirror signature file and get list of all mirror signature CURIEs\n",
    "    df_signature = pd.read_csv(f_mirror_signature, skiprows=1, names=['iri'])\n",
    "\n",
    "    df_signature['iri_clean'] = df_signature['iri'].str.strip('<>')\n",
    "    df_signature['curie'] = df_signature['iri_clean'].apply(extract_curie)\n",
    "    print(f\"LEN - df_signature: {len(df_signature)}\")\n",
    "    \n",
    "    df_signature_clean = df_signature.dropna(subset=['curie']) # Keep only rows where a CURIE was extracted\n",
    "    print(f\"LEN - df_signature_clean: {len(df_signature_clean)}\")\n",
    "    \n",
    "    signature_all = set(df_signature_clean['curie'].dropna())\n",
    "    # print(\"\\n** signature_all\")\n",
    "    # print(list(signature_all)[:5])\n",
    "\n",
    "\n",
    "    # Load the initial inclusion file\n",
    "    df_initial_exclusions = pd.read_csv(f_initial_inclusions, skiprows=1, names=['curie_include'])\n",
    "    df_initial_exclusions['curie_include'] = df_initial_exclusions['curie_include'].apply(extract_curie).str.replace('>', '').str.replace('<', '')\n",
    "    signature_initial_inclusions = set(df_initial_exclusions['curie_include'].dropna())\n",
    "    # print('\\n** signature_initial_inclusions')\n",
    "    # print(list(signature_initial_inclusions)[:5])\n",
    "\n",
    "\n",
    "    # Load the term exclusions file (manual exclusions)\n",
    "    df_manual_exclusions = pd.read_csv(f_exclusions, header=None, names=['curie_exclude'])\n",
    "    signature_manual_exclusions = set(df_manual_exclusions['curie_exclude'].dropna())\n",
    "    # print('\\n** signature_manual_exclusions')\n",
    "    # print(list(signature_manual_exclusions)[:5])\n",
    "\n",
    "\n",
    "\n",
    "    # Query OAK to get obsoletes    \n",
    "    db_path = f\"components/{source}.db\"\n",
    "    output_file = f\"{source}_obsoletes.txt\"\n",
    "    # print(f\"Looking for database: {db_path}\")\n",
    "    !runoak -i $db_path obsoletes > $output_file\n",
    "    \n",
    "    # Load obsoletes file\n",
    "    df_obsoletes = pd.read_csv(f'{source}_obsoletes.txt', sep='\\t', skiprows=1, names=['curie', 'reason'])\n",
    "    # Filter to keep only obsolete terms with source prefix\n",
    "    prefix_mapping = {\n",
    "        'omim': 'omim',\n",
    "        'ordo': 'orphanet',\n",
    "        'doid': 'doid',\n",
    "        'ncit': 'ncit',\n",
    "        'icd10cm': 'icd10cm',\n",
    "        'icd11': 'icd11.foundation'\n",
    "    }\n",
    "    prefix = prefix_mapping.get(source, '') \n",
    "    df_obsoletes_filtered = df_obsoletes[\n",
    "        df_obsoletes['curie'].str.lower().str.startswith(f'{prefix}')\n",
    "    ]\n",
    "    \n",
    "    signature_source_obsoletes = set(df_obsoletes_filtered['curie'].dropna().unique())\n",
    "    # print('\\n** signature_source_obsoletes')\n",
    "    # print(list(signature_source_obsoletes)[:5])\n",
    "    \n",
    "    # Process Mondo obsoletes\n",
    "    signature_mondo_obsoletes = set(obs_mondo_df['?mondo_curie'].dropna().unique())\n",
    "    # print('\\n** signature_mondo_obsoletes')\n",
    "    # print(list(signature_mondo_obsoletes)[:5])\n",
    "    \n",
    "\n",
    "    # Compute the various sets\n",
    "    non_inclusion_set = set(signature_all - signature_initial_inclusions)\n",
    "    exclusion_set = non_inclusion_set | signature_manual_exclusions | signature_source_obsoletes | signature_mondo_obsoletes\n",
    "    inclusion_set = signature_initial_inclusions - exclusion_set\n",
    "    \n",
    "    # Load mondo.sssom.tsv\n",
    "    df_mapped = mondo_sssom_skosExactMatch_df[mondo_sssom_skosExactMatch_df['object_id'].isin(inclusion_set)].copy()\n",
    "    mapped_set = set(df_mapped['object_id'].dropna().unique())\n",
    "    non_mapped = inclusion_set - mapped_set\n",
    "    # print(f\"\\n** First five IDs that have not been mapped yet: {list(non_mapped)[0:5]}\")\n",
    "    \n",
    "    \n",
    "    all_count = len(signature_all)\n",
    "    excluded_count = len(exclusion_set)\n",
    "    included_count = len(inclusion_set)\n",
    "    initial_inclusion_count = len(signature_initial_inclusions)\n",
    "    initial_inclusion_percent = (initial_inclusion_count / all_count) * 100 if all_count > 0 else 0\n",
    "    included_percent = (included_count / initial_inclusion_count) * 100 if initial_inclusion_count > 0 else 0\n",
    "    mapped_count  = len(mapped_set)\n",
    "    mapped_percent = (mapped_count / included_count) * 100 if included_count > 0 else 0\n",
    "    print(f\"\\nFinal Count of {source}:\")\n",
    "    print(f\"  Mirror Signature [ALL]: {all_count}\")\n",
    "    print(f\"  Initial Inclusions [IN-SCOPE]: {initial_inclusion_count} ({initial_inclusion_percent:.2f}%)\")\n",
    "    print(f\"  Excluded Terms [EXCLUDED]: {excluded_count}\")\n",
    "    print(f\"  Included Terms [DISEASE]: {included_count} ({included_percent:.2f}%)\")\n",
    "    print(f\"  Mapped Terms [MAPPED]: {mapped_count} ({mapped_percent:.2f}%)\")\n",
    "\n"
   ]
  },
  {
   "cell_type": "code",
   "execution_count": 7,
   "id": "e24149cc-eb76-407a-bc4b-24188374e7e6",
   "metadata": {},
   "outputs": [
    {
     "name": "stdout",
     "output_type": "stream",
     "text": [
      "LEN - df_signature: 36276\n",
      "LEN - df_signature_clean: 29721\n",
      "\n",
      "Final Count of omim:\n",
      "  Mirror Signature [ALL]: 29721\n",
      "  Initial Inclusions [IN-SCOPE]: 12173 (40.96%)\n",
      "  Excluded Terms [EXCLUDED]: 24785\n",
      "  Included Terms [DISEASE]: 8855 (72.74%)\n",
      "  Mapped Terms [MAPPED]: 8841 (99.84%)\n"
     ]
    }
   ],
   "source": [
    "# OMIM Alignment\n",
    "source = 'omim'\n",
    "compute_stats(source, mondo_sssom_skosExactMatch_df)"
   ]
  },
  {
   "cell_type": "code",
   "execution_count": 8,
   "id": "b5dbdca5-09e6-4edf-97e1-eab54d97db53",
   "metadata": {},
   "outputs": [
    {
     "name": "stdout",
     "output_type": "stream",
     "text": [
      "LEN - df_signature: 15579\n",
      "LEN - df_signature_clean: 15578\n",
      "\n",
      "Final Count of ordo:\n",
      "  Mirror Signature [ALL]: 15578\n",
      "  Initial Inclusions [IN-SCOPE]: 11096 (71.23%)\n",
      "  Excluded Terms [EXCLUDED]: 10247\n",
      "  Included Terms [DISEASE]: 9268 (83.53%)\n",
      "  Mapped Terms [MAPPED]: 9195 (99.21%)\n"
     ]
    }
   ],
   "source": [
    "# Orphanet Alignment\n",
    "source = 'ordo'\n",
    "compute_stats(source, mondo_sssom_skosExactMatch_df)"
   ]
  },
  {
   "cell_type": "code",
   "execution_count": 9,
   "id": "bf5560d4-f986-4b64-9ad3-8d4bd2d18234",
   "metadata": {},
   "outputs": [
    {
     "name": "stdout",
     "output_type": "stream",
     "text": [
      "LEN - df_signature: 19114\n",
      "LEN - df_signature_clean: 14377\n",
      "\n",
      "Final Count of doid:\n",
      "  Mirror Signature [ALL]: 14377\n",
      "  Initial Inclusions [IN-SCOPE]: 11858 (82.48%)\n",
      "  Excluded Terms [EXCLUDED]: 6606\n",
      "  Included Terms [DISEASE]: 11683 (98.52%)\n",
      "  Mapped Terms [MAPPED]: 11442 (97.94%)\n"
     ]
    }
   ],
   "source": [
    "# DOID Alignment\n",
    "source = 'doid'\n",
    "compute_stats(source, mondo_sssom_skosExactMatch_df)"
   ]
  },
  {
   "cell_type": "code",
   "execution_count": 10,
   "id": "509b8c27-cbe4-47c1-9df0-69be92c2d4ed",
   "metadata": {},
   "outputs": [
    {
     "name": "stdout",
     "output_type": "stream",
     "text": [
      "LEN - df_signature: 185902\n",
      "LEN - df_signature_clean: 185902\n",
      "\n",
      "Final Count of ncit:\n",
      "  Mirror Signature [ALL]: 185902\n",
      "  Initial Inclusions [IN-SCOPE]: 15750 (8.47%)\n",
      "  Excluded Terms [EXCLUDED]: 179332\n",
      "  Included Terms [DISEASE]: 15745 (99.97%)\n",
      "  Mapped Terms [MAPPED]: 3687 (23.42%)\n"
     ]
    }
   ],
   "source": [
    "# NCIT Alignment\n",
    "source = 'ncit'\n",
    "compute_stats(source, mondo_sssom_skosExactMatch_df)"
   ]
  },
  {
   "cell_type": "code",
   "execution_count": 11,
   "id": "d0c12815-bccd-4ff7-967b-e213f87df647",
   "metadata": {},
   "outputs": [
    {
     "name": "stdout",
     "output_type": "stream",
     "text": [
      "LEN - df_signature: 101135\n",
      "LEN - df_signature_clean: 101134\n",
      "\n",
      "Final Count of icd11foundation:\n",
      "  Mirror Signature [ALL]: 101134\n",
      "  Initial Inclusions [IN-SCOPE]: 57872 (57.22%)\n",
      "  Excluded Terms [EXCLUDED]: 52950\n",
      "  Included Terms [DISEASE]: 52097 (90.02%)\n",
      "  Mapped Terms [MAPPED]: 4104 (7.88%)\n"
     ]
    }
   ],
   "source": [
    "# ICD11 Alignment\n",
    "source = 'icd11foundation'\n",
    "compute_stats(source, mondo_sssom_skosExactMatch_df)"
   ]
  },
  {
   "cell_type": "code",
   "execution_count": 12,
   "id": "7027dd10-bcf4-4d27-9cee-51b8dbaea619",
   "metadata": {},
   "outputs": [
    {
     "name": "stdout",
     "output_type": "stream",
     "text": [
      "LEN - df_signature: 95974\n",
      "LEN - df_signature_clean: 95847\n",
      "\n",
      "Final Count of icd10cm:\n",
      "  Mirror Signature [ALL]: 95847\n",
      "  Initial Inclusions [IN-SCOPE]: 95847 (100.00%)\n",
      "  Excluded Terms [EXCLUDED]: 19364\n",
      "  Included Terms [DISEASE]: 80395 (83.88%)\n",
      "  Mapped Terms [MAPPED]: 1121 (1.39%)\n"
     ]
    }
   ],
   "source": [
    "# ICD10 Alignment\n",
    "source = 'icd10cm'\n",
    "compute_stats(source, mondo_sssom_skosExactMatch_df)"
   ]
  },
  {
   "cell_type": "code",
   "execution_count": null,
   "id": "755bdf17-2eb3-4e20-9576-168ae072f0f8",
   "metadata": {},
   "outputs": [],
   "source": []
  }
 ],
 "metadata": {
  "kernelspec": {
   "display_name": "Python 3 (ipykernel)",
   "language": "python",
   "name": "python3"
  },
  "language_info": {
   "codemirror_mode": {
    "name": "ipython",
    "version": 3
   },
   "file_extension": ".py",
   "mimetype": "text/x-python",
   "name": "python",
   "nbconvert_exporter": "python",
   "pygments_lexer": "ipython3",
   "version": "3.9.18"
  }
 },
 "nbformat": 4,
 "nbformat_minor": 5
}
